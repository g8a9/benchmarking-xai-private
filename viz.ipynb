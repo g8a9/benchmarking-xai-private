{
 "cells": [
  {
   "cell_type": "code",
   "execution_count": 2,
   "id": "aggressive-testament",
   "metadata": {},
   "outputs": [],
   "source": [
    "%load_ext autoreload\n",
    "%autoreload 2"
   ]
  },
  {
   "cell_type": "code",
   "execution_count": 3,
   "id": "quality-columbia",
   "metadata": {},
   "outputs": [
    {
     "name": "stderr",
     "output_type": "stream",
     "text": [
      "comet_ml is installed but `COMET_API_KEY` is not set.\n"
     ]
    }
   ],
   "source": [
    "import pandas as pd\n",
    "import numpy as np\n",
    "import torch\n",
    "import torch.nn as nn\n",
    "from datasets import load_metric, Dataset, DatasetDict\n",
    "from transformers import (\n",
    "    AutoTokenizer,\n",
    "    AutoModelForSequenceClassification,\n",
    "    TrainingArguments,\n",
    "    Trainer,\n",
    "    EarlyStoppingCallback\n",
    ")\n",
    "from einops import rearrange\n",
    "from helper import VizHelper\n",
    "import matplotlib.pyplot as plt\n",
    "\n",
    "from custom_bert import BertForSequenceClassification"
   ]
  },
  {
   "cell_type": "code",
   "execution_count": 4,
   "id": "premier-cement",
   "metadata": {},
   "outputs": [],
   "source": [
    "max_seq_length = 128"
   ]
  },
  {
   "cell_type": "code",
   "execution_count": 11,
   "id": "prompt-usage",
   "metadata": {},
   "outputs": [],
   "source": [
    "SOC_DIR = \"./contextualizing-hate-speech-models-with-explanations/\""
   ]
  },
  {
   "cell_type": "code",
   "execution_count": 13,
   "id": "banned-letters",
   "metadata": {},
   "outputs": [],
   "source": [
    "import sys\n",
    "if SOC_DIR not in sys.path:\n",
    "    sys.path.append(SOC_DIR)"
   ]
  },
  {
   "cell_type": "markdown",
   "id": "loose-jacob",
   "metadata": {},
   "source": [
    "# AMI18"
   ]
  },
  {
   "cell_type": "code",
   "execution_count": 5,
   "id": "separated-folks",
   "metadata": {},
   "outputs": [],
   "source": [
    "model_name = \"./bert-base-cased_ami18/\"\n",
    "tokenizer_name = \"bert-base-cased\""
   ]
  },
  {
   "cell_type": "code",
   "execution_count": 6,
   "id": "heard-recipe",
   "metadata": {},
   "outputs": [],
   "source": [
    "tokenizer = AutoTokenizer.from_pretrained(tokenizer_name)\n",
    "def preprocess_text(examples):\n",
    "    return tokenizer(examples[\"text\"], padding=\"max_length\", truncation=True, max_length=max_seq_length)"
   ]
  },
  {
   "cell_type": "code",
   "execution_count": 7,
   "id": "unauthorized-moses",
   "metadata": {},
   "outputs": [
    {
     "data": {
      "application/vnd.jupyter.widget-view+json": {
       "model_id": "e4761c41d82b468ca95bd1de8c0fcb44",
       "version_major": 2,
       "version_minor": 0
      },
      "text/plain": [
       "  0%|          | 0/4 [00:00<?, ?ba/s]"
      ]
     },
     "metadata": {},
     "output_type": "display_data"
    },
    {
     "data": {
      "application/vnd.jupyter.widget-view+json": {
       "model_id": "c377150c02844aacb9f878e12410a59e",
       "version_major": 2,
       "version_minor": 0
      },
      "text/plain": [
       "  0%|          | 0/1 [00:00<?, ?ba/s]"
      ]
     },
     "metadata": {},
     "output_type": "display_data"
    },
    {
     "data": {
      "application/vnd.jupyter.widget-view+json": {
       "model_id": "75d4a1b5be2544699779cec4d4380208",
       "version_major": 2,
       "version_minor": 0
      },
      "text/plain": [
       "  0%|          | 0/1 [00:00<?, ?ba/s]"
      ]
     },
     "metadata": {},
     "output_type": "display_data"
    }
   ],
   "source": [
    "train = pd.read_csv(\"data/miso_train.tsv\", sep=\"\\t\")\n",
    "validation = pd.read_csv(\"data/miso_dev.tsv\", sep=\"\\t\")\n",
    "test = pd.read_csv(\"data/miso_test.tsv\", sep=\"\\t\")\n",
    "\n",
    "raw_datasets = DatasetDict(\n",
    "    train=Dataset.from_pandas(train),\n",
    "    validation=Dataset.from_pandas(validation),\n",
    "    test=Dataset.from_pandas(test)\n",
    ")\n",
    "raw_datasets = raw_datasets.rename_column(\"misogynous\", \"label\")\n",
    "proc_datasets = raw_datasets.map(preprocess_text, batched=True, remove_columns=raw_datasets[\"train\"].features)\n",
    "proc_datasets.set_format(\"pt\")"
   ]
  },
  {
   "cell_type": "code",
   "execution_count": 8,
   "id": "requested-smart",
   "metadata": {},
   "outputs": [
    {
     "name": "stdout",
     "output_type": "stream",
     "text": [
      "*** Calling custom BertForSequenceClassification ***\n"
     ]
    }
   ],
   "source": [
    "model = AutoModelForSequenceClassification.from_pretrained(model_name).eval()\n",
    "effective_model = BertForSequenceClassification.from_pretrained(model_name).eval()"
   ]
  },
  {
   "cell_type": "code",
   "execution_count": 9,
   "id": "healthy-intermediate",
   "metadata": {},
   "outputs": [],
   "source": [
    "exp = VizHelper(model, tokenizer, raw_datasets[\"test\"], proc_datasets[\"test\"])"
   ]
  },
  {
   "cell_type": "markdown",
   "id": "emerging-bermuda",
   "metadata": {},
   "source": [
    "Attention"
   ]
  },
  {
   "cell_type": "code",
   "execution_count": null,
   "id": "quick-seven",
   "metadata": {},
   "outputs": [],
   "source": [
    "exp.show_attention(idx=21, head=3, layer=10)"
   ]
  },
  {
   "cell_type": "code",
   "execution_count": null,
   "id": "official-islam",
   "metadata": {},
   "outputs": [],
   "source": [
    "exp.show_effective_attention(idx=21, head=3, layer=10)"
   ]
  },
  {
   "cell_type": "code",
   "execution_count": null,
   "id": "patent-greensboro",
   "metadata": {},
   "outputs": [],
   "source": [
    "idx, head, layer = 21, 7, 2\n",
    "fig = exp.compare_attentions(idx, head, layer)\n",
    "fig.savefig(f\"plots/comp_attentions_{idx}_{head}_{layer}.png\", bbox_inches='tight')"
   ]
  },
  {
   "cell_type": "code",
   "execution_count": null,
   "id": "sporting-timber",
   "metadata": {},
   "outputs": [],
   "source": [
    "idx, head, layer = 21, 1, 9\n",
    "fig = exp.compare_attentions(idx, head, layer)\n",
    "fig.savefig(f\"plots/comp_attentions_{idx}_{head}_{layer}.png\", bbox_inches='tight')"
   ]
  },
  {
   "cell_type": "markdown",
   "id": "dynamic-wichita",
   "metadata": {},
   "source": [
    "Classification"
   ]
  },
  {
   "cell_type": "code",
   "execution_count": null,
   "id": "married-naples",
   "metadata": {},
   "outputs": [],
   "source": [
    "exp.classify(21)"
   ]
  },
  {
   "cell_type": "code",
   "execution_count": null,
   "id": "active-summer",
   "metadata": {},
   "outputs": [],
   "source": [
    "results = exp.compute_table(21)"
   ]
  },
  {
   "cell_type": "code",
   "execution_count": null,
   "id": "defined-suspension",
   "metadata": {},
   "outputs": [],
   "source": [
    "results.to_excel(\"table.xlsx\")"
   ]
  },
  {
   "cell_type": "code",
   "execution_count": null,
   "id": "frank-boundary",
   "metadata": {},
   "outputs": [],
   "source": [
    "idx, head, layer = 21, 1, 2\n",
    "fig = exp.compare_attentions(idx, head, layer, effective_model=effective_model, fontsize=18)\n",
    "fig.savefig(f\"plots/comp_attentions_{idx}_{head}_{layer}.png\", bbox_inches='tight')"
   ]
  },
  {
   "cell_type": "code",
   "execution_count": null,
   "id": "latest-devon",
   "metadata": {},
   "outputs": [],
   "source": []
  },
  {
   "cell_type": "code",
   "execution_count": null,
   "id": "hired-strip",
   "metadata": {},
   "outputs": [],
   "source": [
    "grad, embeds = exp.get_gradient(21)"
   ]
  },
  {
   "cell_type": "markdown",
   "id": "floppy-stretch",
   "metadata": {},
   "source": [
    "Gradients"
   ]
  },
  {
   "cell_type": "code",
   "execution_count": null,
   "id": "incorporated-headset",
   "metadata": {},
   "outputs": [],
   "source": [
    "exp.get_gradient(21)"
   ]
  },
  {
   "cell_type": "markdown",
   "id": "unknown-invitation",
   "metadata": {},
   "source": [
    "Final table"
   ]
  },
  {
   "cell_type": "code",
   "execution_count": 52,
   "id": "advisory-chapter",
   "metadata": {},
   "outputs": [],
   "source": [
    "%%capture\n",
    "table = exp.compute_table(21)"
   ]
  },
  {
   "cell_type": "code",
   "execution_count": 53,
   "id": "optimum-headline",
   "metadata": {},
   "outputs": [
    {
     "data": {
      "text/html": [
       "<div>\n",
       "<style scoped>\n",
       "    .dataframe tbody tr th:only-of-type {\n",
       "        vertical-align: middle;\n",
       "    }\n",
       "\n",
       "    .dataframe tbody tr th {\n",
       "        vertical-align: top;\n",
       "    }\n",
       "\n",
       "    .dataframe thead th {\n",
       "        text-align: right;\n",
       "    }\n",
       "</style>\n",
       "<table border=\"1\" class=\"dataframe\">\n",
       "  <thead>\n",
       "    <tr style=\"text-align: right;\">\n",
       "      <th>tokens</th>\n",
       "      <th>[CLS]</th>\n",
       "      <th>i</th>\n",
       "      <th>miss</th>\n",
       "      <th>my</th>\n",
       "      <th>stupid</th>\n",
       "      <th>pretty</th>\n",
       "      <th>s</th>\n",
       "      <th>##tan</th>\n",
       "      <th>##k</th>\n",
       "      <th>dumb</th>\n",
       "      <th>whore</th>\n",
       "      <th>s</th>\n",
       "      <th>##kan</th>\n",
       "      <th>##k</th>\n",
       "      <th>trick</th>\n",
       "      <th>bitch</th>\n",
       "      <th>ass</th>\n",
       "      <th>friends</th>\n",
       "      <th>[SEP]</th>\n",
       "    </tr>\n",
       "  </thead>\n",
       "  <tbody>\n",
       "    <tr>\n",
       "      <th>G</th>\n",
       "      <td>0.047945</td>\n",
       "      <td>0.013699</td>\n",
       "      <td>-0.061644</td>\n",
       "      <td>-0.102740</td>\n",
       "      <td>-0.082192</td>\n",
       "      <td>0.013699</td>\n",
       "      <td>0.006849</td>\n",
       "      <td>-0.027397</td>\n",
       "      <td>-0.030822</td>\n",
       "      <td>-0.020548</td>\n",
       "      <td>0.171233</td>\n",
       "      <td>0.023973</td>\n",
       "      <td>-0.054795</td>\n",
       "      <td>-0.054795</td>\n",
       "      <td>-0.089041</td>\n",
       "      <td>0.000000</td>\n",
       "      <td>0.041096</td>\n",
       "      <td>0.006849</td>\n",
       "      <td>0.150685</td>\n",
       "    </tr>\n",
       "    <tr>\n",
       "      <th>GxI</th>\n",
       "      <td>0.004382</td>\n",
       "      <td>-0.055667</td>\n",
       "      <td>-0.033224</td>\n",
       "      <td>-0.034306</td>\n",
       "      <td>-0.013459</td>\n",
       "      <td>0.003522</td>\n",
       "      <td>0.011157</td>\n",
       "      <td>0.019200</td>\n",
       "      <td>0.024633</td>\n",
       "      <td>-0.000851</td>\n",
       "      <td>-0.003492</td>\n",
       "      <td>0.014394</td>\n",
       "      <td>0.083351</td>\n",
       "      <td>0.061475</td>\n",
       "      <td>-0.075811</td>\n",
       "      <td>-0.113489</td>\n",
       "      <td>-0.201125</td>\n",
       "      <td>-0.139274</td>\n",
       "      <td>0.107186</td>\n",
       "    </tr>\n",
       "    <tr>\n",
       "      <th>IntegratedGradients</th>\n",
       "      <td>-0.024810</td>\n",
       "      <td>-0.041670</td>\n",
       "      <td>0.079333</td>\n",
       "      <td>-0.055123</td>\n",
       "      <td>-0.076697</td>\n",
       "      <td>0.038040</td>\n",
       "      <td>-0.047656</td>\n",
       "      <td>-0.126776</td>\n",
       "      <td>-0.033091</td>\n",
       "      <td>-0.112115</td>\n",
       "      <td>0.030842</td>\n",
       "      <td>-0.045686</td>\n",
       "      <td>-0.031556</td>\n",
       "      <td>-0.034987</td>\n",
       "      <td>-0.086230</td>\n",
       "      <td>-0.090326</td>\n",
       "      <td>-0.030227</td>\n",
       "      <td>0.002293</td>\n",
       "      <td>-0.012541</td>\n",
       "    </tr>\n",
       "    <tr>\n",
       "      <th>KernelSHAP</th>\n",
       "      <td>0.099068</td>\n",
       "      <td>0.082946</td>\n",
       "      <td>-0.047284</td>\n",
       "      <td>-0.036151</td>\n",
       "      <td>0.059429</td>\n",
       "      <td>0.043475</td>\n",
       "      <td>0.019928</td>\n",
       "      <td>-0.008110</td>\n",
       "      <td>-0.058207</td>\n",
       "      <td>0.053965</td>\n",
       "      <td>0.110713</td>\n",
       "      <td>-0.097884</td>\n",
       "      <td>0.087608</td>\n",
       "      <td>0.093683</td>\n",
       "      <td>0.017766</td>\n",
       "      <td>-0.035715</td>\n",
       "      <td>0.034638</td>\n",
       "      <td>0.007814</td>\n",
       "      <td>0.344866</td>\n",
       "    </tr>\n",
       "    <tr>\n",
       "      <th>SOC</th>\n",
       "      <td>0.056810</td>\n",
       "      <td>-0.002850</td>\n",
       "      <td>0.001385</td>\n",
       "      <td>0.005590</td>\n",
       "      <td>0.046292</td>\n",
       "      <td>0.083087</td>\n",
       "      <td>0.015206</td>\n",
       "      <td>-0.022462</td>\n",
       "      <td>-0.002206</td>\n",
       "      <td>0.016573</td>\n",
       "      <td>0.162120</td>\n",
       "      <td>0.026735</td>\n",
       "      <td>0.011044</td>\n",
       "      <td>-0.002935</td>\n",
       "      <td>0.008057</td>\n",
       "      <td>0.320324</td>\n",
       "      <td>0.103327</td>\n",
       "      <td>-0.034178</td>\n",
       "      <td>0.078819</td>\n",
       "    </tr>\n",
       "  </tbody>\n",
       "</table>\n",
       "</div>"
      ],
      "text/plain": [
       "tokens                  [CLS]         i      miss        my    stupid  \\\n",
       "G                    0.047945  0.013699 -0.061644 -0.102740 -0.082192   \n",
       "GxI                  0.004382 -0.055667 -0.033224 -0.034306 -0.013459   \n",
       "IntegratedGradients -0.024810 -0.041670  0.079333 -0.055123 -0.076697   \n",
       "KernelSHAP           0.099068  0.082946 -0.047284 -0.036151  0.059429   \n",
       "SOC                  0.056810 -0.002850  0.001385  0.005590  0.046292   \n",
       "\n",
       "tokens                 pretty         s     ##tan       ##k      dumb  \\\n",
       "G                    0.013699  0.006849 -0.027397 -0.030822 -0.020548   \n",
       "GxI                  0.003522  0.011157  0.019200  0.024633 -0.000851   \n",
       "IntegratedGradients  0.038040 -0.047656 -0.126776 -0.033091 -0.112115   \n",
       "KernelSHAP           0.043475  0.019928 -0.008110 -0.058207  0.053965   \n",
       "SOC                  0.083087  0.015206 -0.022462 -0.002206  0.016573   \n",
       "\n",
       "tokens                  whore         s     ##kan       ##k     trick  \\\n",
       "G                    0.171233  0.023973 -0.054795 -0.054795 -0.089041   \n",
       "GxI                 -0.003492  0.014394  0.083351  0.061475 -0.075811   \n",
       "IntegratedGradients  0.030842 -0.045686 -0.031556 -0.034987 -0.086230   \n",
       "KernelSHAP           0.110713 -0.097884  0.087608  0.093683  0.017766   \n",
       "SOC                  0.162120  0.026735  0.011044 -0.002935  0.008057   \n",
       "\n",
       "tokens                  bitch       ass   friends     [SEP]  \n",
       "G                    0.000000  0.041096  0.006849  0.150685  \n",
       "GxI                 -0.113489 -0.201125 -0.139274  0.107186  \n",
       "IntegratedGradients -0.090326 -0.030227  0.002293 -0.012541  \n",
       "KernelSHAP          -0.035715  0.034638  0.007814  0.344866  \n",
       "SOC                  0.320324  0.103327 -0.034178  0.078819  "
      ]
     },
     "execution_count": 53,
     "metadata": {},
     "output_type": "execute_result"
    }
   ],
   "source": [
    "table"
   ]
  },
  {
   "cell_type": "code",
   "execution_count": 54,
   "id": "directed-deputy",
   "metadata": {},
   "outputs": [
    {
     "data": {
      "text/plain": [
       "G                     -0.047945\n",
       "GxI                   -0.341400\n",
       "IntegratedGradients   -0.698984\n",
       "KernelSHAP             0.772549\n",
       "SOC                    0.870739\n",
       "dtype: float64"
      ]
     },
     "execution_count": 54,
     "metadata": {},
     "output_type": "execute_result"
    }
   ],
   "source": [
    "table.sum(axis=1)"
   ]
  },
  {
   "cell_type": "code",
   "execution_count": 55,
   "id": "enormous-machinery",
   "metadata": {},
   "outputs": [],
   "source": [
    "table.to_excel(f\"table_21.xlsx\")"
   ]
  },
  {
   "cell_type": "markdown",
   "id": "hungry-prevention",
   "metadata": {},
   "source": [
    "SHAP"
   ]
  },
  {
   "cell_type": "code",
   "execution_count": null,
   "id": "regional-clock",
   "metadata": {},
   "outputs": [],
   "source": [
    "shap = exp.get_kernel_shap(21)"
   ]
  },
  {
   "cell_type": "code",
   "execution_count": 67,
   "id": "radio-consolidation",
   "metadata": {},
   "outputs": [],
   "source": [
    "ig = exp.get_integrated_gradients(21)"
   ]
  },
  {
   "cell_type": "code",
   "execution_count": 68,
   "id": "every-parking",
   "metadata": {},
   "outputs": [
    {
     "data": {
      "text/plain": [
       "tensor([-0.0248, -0.0417,  0.0793, -0.0551, -0.0767,  0.0380, -0.0477, -0.1268,\n",
       "        -0.0331, -0.1121,  0.0308, -0.0457, -0.0316, -0.0350, -0.0862, -0.0903,\n",
       "        -0.0302,  0.0023, -0.0125], dtype=torch.float64,\n",
       "       grad_fn=<DivBackward0>)"
      ]
     },
     "execution_count": 68,
     "metadata": {},
     "output_type": "execute_result"
    }
   ],
   "source": [
    "ig"
   ]
  },
  {
   "cell_type": "code",
   "execution_count": 44,
   "id": "dangerous-transparency",
   "metadata": {},
   "outputs": [
    {
     "name": "stdout",
     "output_type": "stream",
     "text": [
      "> \u001b[0;32m/home/dauin_user/gattanasio/benchmarking-xai-private/contextualizing-hate-speech-models-with-explanations/hiex/soc_api.py\u001b[0m(91)\u001b[0;36mword_level_explanation_bert\u001b[0;34m()\u001b[0m\n",
      "\u001b[0;32m     89 \u001b[0;31m\u001b[0;34m\u001b[0m\u001b[0m\n",
      "\u001b[0m\u001b[0;32m     90 \u001b[0;31m        \u001b[0mbreakpoint\u001b[0m\u001b[0;34m(\u001b[0m\u001b[0;34m)\u001b[0m\u001b[0;34m\u001b[0m\u001b[0;34m\u001b[0m\u001b[0m\n",
      "\u001b[0m\u001b[0;32m---> 91 \u001b[0;31m        \u001b[0mself\u001b[0m\u001b[0;34m.\u001b[0m\u001b[0moutput_file\u001b[0m\u001b[0;34m.\u001b[0m\u001b[0mwrite\u001b[0m\u001b[0;34m(\u001b[0m\u001b[0ms\u001b[0m \u001b[0;34m+\u001b[0m \u001b[0;34m'\\n'\u001b[0m\u001b[0;34m)\u001b[0m\u001b[0;34m\u001b[0m\u001b[0;34m\u001b[0m\u001b[0m\n",
      "\u001b[0m\u001b[0;32m     92 \u001b[0;31m\u001b[0;34m\u001b[0m\u001b[0m\n",
      "\u001b[0m\u001b[0;32m     93 \u001b[0;31m    \u001b[0;32mdef\u001b[0m \u001b[0mhierarchical_explanation_bert\u001b[0m\u001b[0;34m(\u001b[0m\u001b[0mself\u001b[0m\u001b[0;34m,\u001b[0m \u001b[0minput_ids\u001b[0m\u001b[0;34m,\u001b[0m \u001b[0minput_mask\u001b[0m\u001b[0;34m,\u001b[0m \u001b[0msegment_ids\u001b[0m\u001b[0;34m,\u001b[0m \u001b[0mlabel\u001b[0m\u001b[0;34m=\u001b[0m\u001b[0;32mNone\u001b[0m\u001b[0;34m)\u001b[0m\u001b[0;34m:\u001b[0m\u001b[0;34m\u001b[0m\u001b[0;34m\u001b[0m\u001b[0m\n",
      "\u001b[0m\n"
     ]
    },
    {
     "name": "stdin",
     "output_type": "stream",
     "text": [
      "ipdb>  inp\n"
     ]
    },
    {
     "name": "stdout",
     "output_type": "stream",
     "text": [
      "array([  101,   178,  5529,  1139,  4736,  2785,   188,  5108,  1377,\n",
      "       14908, 20239,   188,  8752,  1377,  7959,  7979,  3919,  2053,\n",
      "         102,     0,     0,     0,     0,     0,     0,     0,     0,\n",
      "           0,     0,     0,     0,     0,     0,     0,     0,     0,\n",
      "           0,     0,     0,     0,     0,     0,     0,     0,     0,\n",
      "           0,     0,     0,     0,     0,     0,     0,     0,     0,\n",
      "           0,     0,     0,     0,     0,     0,     0,     0,     0,\n",
      "           0,     0,     0,     0,     0,     0,     0,     0,     0,\n",
      "           0,     0,     0,     0,     0,     0,     0,     0,     0,\n",
      "           0,     0,     0,     0,     0,     0,     0,     0,     0,\n",
      "           0,     0,     0,     0,     0,     0,     0,     0,     0,\n",
      "           0,     0,     0,     0,     0,     0,     0,     0,     0,\n",
      "           0,     0,     0,     0,     0,     0,     0,     0,     0,\n",
      "           0,     0,     0,     0,     0,     0,     0,     0,     0,\n",
      "           0,     0])\n"
     ]
    },
    {
     "name": "stdin",
     "output_type": "stream",
     "text": [
      "ipdb>  s\n"
     ]
    },
    {
     "name": "stdout",
     "output_type": "stream",
     "text": [
      "--Return--\n",
      "None\n",
      "> \u001b[0;32m/home/dauin_user/gattanasio/benchmarking-xai-private/contextualizing-hate-speech-models-with-explanations/hiex/soc_api.py\u001b[0m(91)\u001b[0;36mword_level_explanation_bert\u001b[0;34m()\u001b[0m\n",
      "\u001b[0;32m     89 \u001b[0;31m\u001b[0;34m\u001b[0m\u001b[0m\n",
      "\u001b[0m\u001b[0;32m     90 \u001b[0;31m        \u001b[0mbreakpoint\u001b[0m\u001b[0;34m(\u001b[0m\u001b[0;34m)\u001b[0m\u001b[0;34m\u001b[0m\u001b[0;34m\u001b[0m\u001b[0m\n",
      "\u001b[0m\u001b[0;32m---> 91 \u001b[0;31m        \u001b[0mself\u001b[0m\u001b[0;34m.\u001b[0m\u001b[0moutput_file\u001b[0m\u001b[0;34m.\u001b[0m\u001b[0mwrite\u001b[0m\u001b[0;34m(\u001b[0m\u001b[0ms\u001b[0m \u001b[0;34m+\u001b[0m \u001b[0;34m'\\n'\u001b[0m\u001b[0;34m)\u001b[0m\u001b[0;34m\u001b[0m\u001b[0;34m\u001b[0m\u001b[0m\n",
      "\u001b[0m\u001b[0;32m     92 \u001b[0;31m\u001b[0;34m\u001b[0m\u001b[0m\n",
      "\u001b[0m\u001b[0;32m     93 \u001b[0;31m    \u001b[0;32mdef\u001b[0m \u001b[0mhierarchical_explanation_bert\u001b[0m\u001b[0;34m(\u001b[0m\u001b[0mself\u001b[0m\u001b[0;34m,\u001b[0m \u001b[0minput_ids\u001b[0m\u001b[0;34m,\u001b[0m \u001b[0minput_mask\u001b[0m\u001b[0;34m,\u001b[0m \u001b[0msegment_ids\u001b[0m\u001b[0;34m,\u001b[0m \u001b[0mlabel\u001b[0m\u001b[0;34m=\u001b[0m\u001b[0;32mNone\u001b[0m\u001b[0;34m)\u001b[0m\u001b[0;34m:\u001b[0m\u001b[0;34m\u001b[0m\u001b[0;34m\u001b[0m\u001b[0m\n",
      "\u001b[0m\n"
     ]
    },
    {
     "name": "stdin",
     "output_type": "stream",
     "text": [
      "ipdb>  print(s\n"
     ]
    },
    {
     "name": "stdout",
     "output_type": "stream",
     "text": [
      "*** SyntaxError: unexpected EOF while parsing\n"
     ]
    },
    {
     "name": "stdin",
     "output_type": "stream",
     "text": [
      "ipdb>  print(s)\n"
     ]
    },
    {
     "name": "stdout",
     "output_type": "stream",
     "text": [
      "i 0.000642\t miss -0.043734\t my 0.076152\t stupid 0.214686\t pretty 0.332197\t s 0.267287\t ##tan -0.088214\t ##k 0.006056\t dumb 0.152184\t whore 0.883939\t s 0.206264\t ##kan 0.023679\t ##k 0.035208\t trick 0.035117\t bitch 1.342909\t ass 0.341583\t friends -0.251832\t\n"
     ]
    },
    {
     "name": "stdin",
     "output_type": "stream",
     "text": [
      "ipdb>  scores\n"
     ]
    },
    {
     "name": "stdout",
     "output_type": "stream",
     "text": [
      "[0.0006419807905331254, -0.043733783066272736, 0.07615158706903458, 0.21468639373779297, 0.3321974277496338, 0.26728692650794983, -0.08821425586938858, 0.006056016776710749, 0.1521843671798706, 0.8839393854141235, 0.206263929605484, 0.023678705096244812, 0.035207539796829224, 0.03511699661612511, 1.3429094552993774, 0.34158265590667725, -0.2518318295478821]\n"
     ]
    },
    {
     "name": "stdin",
     "output_type": "stream",
     "text": [
      "ipdb>  inp_length\n"
     ]
    },
    {
     "name": "stdout",
     "output_type": "stream",
     "text": [
      "19\n"
     ]
    },
    {
     "name": "stdin",
     "output_type": "stream",
     "text": [
      "ipdb>  self.tokenizer.batch_decode(inp[:inp_length])\n"
     ]
    },
    {
     "name": "stdout",
     "output_type": "stream",
     "text": [
      "['[CLS]', 'i', 'miss', 'my', 'stupid', 'pretty', 's', '##tan', '##k', 'dumb', 'whore', 's', '##kan', '##k', 'trick', 'bitch', 'ass', 'friends', '[SEP]']\n"
     ]
    },
    {
     "name": "stdin",
     "output_type": "stream",
     "text": [
      "ipdb>  self.tokenizer.decode(inp[:inp_length])\n"
     ]
    },
    {
     "name": "stdout",
     "output_type": "stream",
     "text": [
      "'[CLS] i miss my stupid pretty stank dumb whore skank trick bitch ass friends [SEP]'\n"
     ]
    },
    {
     "name": "stdin",
     "output_type": "stream",
     "text": [
      "ipdb>  len(scores)\n"
     ]
    },
    {
     "name": "stdout",
     "output_type": "stream",
     "text": [
      "17\n"
     ]
    },
    {
     "name": "stdin",
     "output_type": "stream",
     "text": [
      "ipdb>  exit\n"
     ]
    },
    {
     "ename": "BdbQuit",
     "evalue": "",
     "output_type": "error",
     "traceback": [
      "\u001b[0;31m---------------------------------------------------------------------------\u001b[0m",
      "\u001b[0;31mBdbQuit\u001b[0m                                   Traceback (most recent call last)",
      "\u001b[0;32m<ipython-input-44-fa25f48ebcf3>\u001b[0m in \u001b[0;36m<module>\u001b[0;34m\u001b[0m\n\u001b[0;32m----> 1\u001b[0;31m \u001b[0mexp\u001b[0m\u001b[0;34m.\u001b[0m\u001b[0mget_soc\u001b[0m\u001b[0;34m(\u001b[0m\u001b[0;36m21\u001b[0m\u001b[0;34m)\u001b[0m\u001b[0;34m\u001b[0m\u001b[0;34m\u001b[0m\u001b[0m\n\u001b[0m",
      "\u001b[0;32m~/benchmarking-xai-private/helper.py\u001b[0m in \u001b[0;36mget_soc\u001b[0;34m(self, idx)\u001b[0m\n\u001b[1;32m    270\u001b[0m             \u001b[0mitem\u001b[0m\u001b[0;34m[\u001b[0m\u001b[0;34m\"input_ids\"\u001b[0m\u001b[0;34m]\u001b[0m\u001b[0;34m.\u001b[0m\u001b[0mto\u001b[0m\u001b[0;34m(\u001b[0m\u001b[0;34m\"cuda\"\u001b[0m\u001b[0;34m)\u001b[0m\u001b[0;34m,\u001b[0m\u001b[0;34m\u001b[0m\u001b[0;34m\u001b[0m\u001b[0m\n\u001b[1;32m    271\u001b[0m             \u001b[0mitem\u001b[0m\u001b[0;34m[\u001b[0m\u001b[0;34m\"attention_mask\"\u001b[0m\u001b[0;34m]\u001b[0m\u001b[0;34m.\u001b[0m\u001b[0mto\u001b[0m\u001b[0;34m(\u001b[0m\u001b[0;34m\"cuda\"\u001b[0m\u001b[0;34m)\u001b[0m\u001b[0;34m,\u001b[0m\u001b[0;34m\u001b[0m\u001b[0;34m\u001b[0m\u001b[0m\n\u001b[0;32m--> 272\u001b[0;31m             \u001b[0mitem\u001b[0m\u001b[0;34m[\u001b[0m\u001b[0;34m\"token_type_ids\"\u001b[0m\u001b[0;34m]\u001b[0m\u001b[0;34m.\u001b[0m\u001b[0mto\u001b[0m\u001b[0;34m(\u001b[0m\u001b[0;34m\"cuda\"\u001b[0m\u001b[0;34m)\u001b[0m\u001b[0;34m\u001b[0m\u001b[0;34m\u001b[0m\u001b[0m\n\u001b[0m\u001b[1;32m    273\u001b[0m         )\n\u001b[1;32m    274\u001b[0m         \u001b[0mprint\u001b[0m\u001b[0;34m(\u001b[0m\u001b[0mscores\u001b[0m\u001b[0;34m)\u001b[0m\u001b[0;34m\u001b[0m\u001b[0;34m\u001b[0m\u001b[0m\n",
      "\u001b[0;32m~/benchmarking-xai-private/contextualizing-hate-speech-models-with-explanations/hiex/soc_api.py\u001b[0m in \u001b[0;36mword_level_explanation_bert\u001b[0;34m(self, input_ids, input_mask, segment_ids, label)\u001b[0m\n\u001b[1;32m     89\u001b[0m         \u001b[0;31m# self.output_file.write(s + '\\n')\u001b[0m\u001b[0;34m\u001b[0m\u001b[0;34m\u001b[0m\u001b[0;34m\u001b[0m\u001b[0m\n\u001b[1;32m     90\u001b[0m         \u001b[0;32mreturn\u001b[0m \u001b[0mscores\u001b[0m\u001b[0;34m\u001b[0m\u001b[0;34m\u001b[0m\u001b[0m\n\u001b[0;32m---> 91\u001b[0;31m \u001b[0;34m\u001b[0m\u001b[0m\n\u001b[0m\u001b[1;32m     92\u001b[0m     \u001b[0;32mdef\u001b[0m \u001b[0mhierarchical_explanation_bert\u001b[0m\u001b[0;34m(\u001b[0m\u001b[0mself\u001b[0m\u001b[0;34m,\u001b[0m \u001b[0minput_ids\u001b[0m\u001b[0;34m,\u001b[0m \u001b[0minput_mask\u001b[0m\u001b[0;34m,\u001b[0m \u001b[0msegment_ids\u001b[0m\u001b[0;34m,\u001b[0m \u001b[0mlabel\u001b[0m\u001b[0;34m=\u001b[0m\u001b[0;32mNone\u001b[0m\u001b[0;34m)\u001b[0m\u001b[0;34m:\u001b[0m\u001b[0;34m\u001b[0m\u001b[0;34m\u001b[0m\u001b[0m\n\u001b[1;32m     93\u001b[0m         \u001b[0mtab_info\u001b[0m \u001b[0;34m=\u001b[0m \u001b[0mself\u001b[0m\u001b[0;34m.\u001b[0m\u001b[0malgo\u001b[0m\u001b[0;34m.\u001b[0m\u001b[0mdo_hierarchical_explanation\u001b[0m\u001b[0;34m(\u001b[0m\u001b[0minput_ids\u001b[0m\u001b[0;34m,\u001b[0m \u001b[0minput_mask\u001b[0m\u001b[0;34m,\u001b[0m \u001b[0msegment_ids\u001b[0m\u001b[0;34m,\u001b[0m \u001b[0mlabel\u001b[0m\u001b[0;34m)\u001b[0m\u001b[0;34m\u001b[0m\u001b[0;34m\u001b[0m\u001b[0m\n",
      "\u001b[0;32m/opt/anaconda3/envs/bigdatalab/lib/python3.7/bdb.py\u001b[0m in \u001b[0;36mtrace_dispatch\u001b[0;34m(self, frame, event, arg)\u001b[0m\n\u001b[1;32m     90\u001b[0m             \u001b[0;32mreturn\u001b[0m \u001b[0mself\u001b[0m\u001b[0;34m.\u001b[0m\u001b[0mdispatch_call\u001b[0m\u001b[0;34m(\u001b[0m\u001b[0mframe\u001b[0m\u001b[0;34m,\u001b[0m \u001b[0marg\u001b[0m\u001b[0;34m)\u001b[0m\u001b[0;34m\u001b[0m\u001b[0;34m\u001b[0m\u001b[0m\n\u001b[1;32m     91\u001b[0m         \u001b[0;32mif\u001b[0m \u001b[0mevent\u001b[0m \u001b[0;34m==\u001b[0m \u001b[0;34m'return'\u001b[0m\u001b[0;34m:\u001b[0m\u001b[0;34m\u001b[0m\u001b[0;34m\u001b[0m\u001b[0m\n\u001b[0;32m---> 92\u001b[0;31m             \u001b[0;32mreturn\u001b[0m \u001b[0mself\u001b[0m\u001b[0;34m.\u001b[0m\u001b[0mdispatch_return\u001b[0m\u001b[0;34m(\u001b[0m\u001b[0mframe\u001b[0m\u001b[0;34m,\u001b[0m \u001b[0marg\u001b[0m\u001b[0;34m)\u001b[0m\u001b[0;34m\u001b[0m\u001b[0;34m\u001b[0m\u001b[0m\n\u001b[0m\u001b[1;32m     93\u001b[0m         \u001b[0;32mif\u001b[0m \u001b[0mevent\u001b[0m \u001b[0;34m==\u001b[0m \u001b[0;34m'exception'\u001b[0m\u001b[0;34m:\u001b[0m\u001b[0;34m\u001b[0m\u001b[0;34m\u001b[0m\u001b[0m\n\u001b[1;32m     94\u001b[0m             \u001b[0;32mreturn\u001b[0m \u001b[0mself\u001b[0m\u001b[0;34m.\u001b[0m\u001b[0mdispatch_exception\u001b[0m\u001b[0;34m(\u001b[0m\u001b[0mframe\u001b[0m\u001b[0;34m,\u001b[0m \u001b[0marg\u001b[0m\u001b[0;34m)\u001b[0m\u001b[0;34m\u001b[0m\u001b[0;34m\u001b[0m\u001b[0m\n",
      "\u001b[0;32m/opt/anaconda3/envs/bigdatalab/lib/python3.7/bdb.py\u001b[0m in \u001b[0;36mdispatch_return\u001b[0;34m(self, frame, arg)\u001b[0m\n\u001b[1;32m    152\u001b[0m             \u001b[0;32mfinally\u001b[0m\u001b[0;34m:\u001b[0m\u001b[0;34m\u001b[0m\u001b[0;34m\u001b[0m\u001b[0m\n\u001b[1;32m    153\u001b[0m                 \u001b[0mself\u001b[0m\u001b[0;34m.\u001b[0m\u001b[0mframe_returning\u001b[0m \u001b[0;34m=\u001b[0m \u001b[0;32mNone\u001b[0m\u001b[0;34m\u001b[0m\u001b[0;34m\u001b[0m\u001b[0m\n\u001b[0;32m--> 154\u001b[0;31m             \u001b[0;32mif\u001b[0m \u001b[0mself\u001b[0m\u001b[0;34m.\u001b[0m\u001b[0mquitting\u001b[0m\u001b[0;34m:\u001b[0m \u001b[0;32mraise\u001b[0m \u001b[0mBdbQuit\u001b[0m\u001b[0;34m\u001b[0m\u001b[0;34m\u001b[0m\u001b[0m\n\u001b[0m\u001b[1;32m    155\u001b[0m             \u001b[0;31m# The user issued a 'next' or 'until' command.\u001b[0m\u001b[0;34m\u001b[0m\u001b[0;34m\u001b[0m\u001b[0;34m\u001b[0m\u001b[0m\n\u001b[1;32m    156\u001b[0m             \u001b[0;32mif\u001b[0m \u001b[0mself\u001b[0m\u001b[0;34m.\u001b[0m\u001b[0mstopframe\u001b[0m \u001b[0;32mis\u001b[0m \u001b[0mframe\u001b[0m \u001b[0;32mand\u001b[0m \u001b[0mself\u001b[0m\u001b[0;34m.\u001b[0m\u001b[0mstoplineno\u001b[0m \u001b[0;34m!=\u001b[0m \u001b[0;34m-\u001b[0m\u001b[0;36m1\u001b[0m\u001b[0;34m:\u001b[0m\u001b[0;34m\u001b[0m\u001b[0;34m\u001b[0m\u001b[0m\n",
      "\u001b[0;31mBdbQuit\u001b[0m: "
     ]
    }
   ],
   "source": [
    "exp.get_soc(21)"
   ]
  },
  {
   "cell_type": "code",
   "execution_count": 21,
   "id": "fifth-employee",
   "metadata": {},
   "outputs": [
    {
     "data": {
      "text/plain": [
       "device(type='cpu')"
      ]
     },
     "execution_count": 21,
     "metadata": {},
     "output_type": "execute_result"
    }
   ],
   "source": [
    "exp.model.device"
   ]
  },
  {
   "cell_type": "code",
   "execution_count": 17,
   "id": "light-chester",
   "metadata": {},
   "outputs": [],
   "source": [
    "item = exp._get_item(21)"
   ]
  },
  {
   "cell_type": "code",
   "execution_count": 18,
   "id": "continuous-deviation",
   "metadata": {},
   "outputs": [
    {
     "data": {
      "text/plain": [
       "dict_keys(['input_ids', 'token_type_ids', 'attention_mask'])"
      ]
     },
     "execution_count": 18,
     "metadata": {},
     "output_type": "execute_result"
    }
   ],
   "source": [
    "item.keys()"
   ]
  }
 ],
 "metadata": {
  "kernelspec": {
   "display_name": "unbias_venv",
   "language": "python",
   "name": "unbias_venv"
  },
  "language_info": {
   "codemirror_mode": {
    "name": "ipython",
    "version": 3
   },
   "file_extension": ".py",
   "mimetype": "text/x-python",
   "name": "python",
   "nbconvert_exporter": "python",
   "pygments_lexer": "ipython3",
   "version": "3.7.9"
  }
 },
 "nbformat": 4,
 "nbformat_minor": 5
}
