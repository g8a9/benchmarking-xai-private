{
 "cells": [
  {
   "cell_type": "code",
   "execution_count": 36,
   "id": "touched-services",
   "metadata": {},
   "outputs": [
    {
     "name": "stdout",
     "output_type": "stream",
     "text": [
      "The autoreload extension is already loaded. To reload it, use:\n",
      "  %reload_ext autoreload\n"
     ]
    }
   ],
   "source": [
    "%load_ext autoreload\n",
    "%autoreload 2"
   ]
  },
  {
   "cell_type": "code",
   "execution_count": 37,
   "id": "frequent-bench",
   "metadata": {},
   "outputs": [],
   "source": [
    "import pandas as pd\n",
    "import numpy as np\n",
    "import torch\n",
    "import torch.nn as nn\n",
    "from datasets import load_metric, Dataset, DatasetDict\n",
    "from transformers import (\n",
    "    AutoTokenizer,\n",
    "    AutoModelForSequenceClassification,\n",
    "    TrainingArguments,\n",
    "    Trainer,\n",
    "    EarlyStoppingCallback\n",
    ")\n",
    "from einops import rearrange\n",
    "from helper import VizHelper\n",
    "import matplotlib.pyplot as plt\n",
    "\n",
    "from custom_bert import BertForSequenceClassification"
   ]
  },
  {
   "cell_type": "code",
   "execution_count": 38,
   "id": "detected-effect",
   "metadata": {},
   "outputs": [],
   "source": [
    "max_seq_length = 128"
   ]
  },
  {
   "cell_type": "markdown",
   "id": "prerequisite-steel",
   "metadata": {},
   "source": [
    "# AMI18"
   ]
  },
  {
   "cell_type": "code",
   "execution_count": 9,
   "id": "fifty-reality",
   "metadata": {},
   "outputs": [],
   "source": [
    "model_name = \"./bert-base-cased_ami18/\"\n",
    "tokenizer_name = \"bert-base-cased\""
   ]
  },
  {
   "cell_type": "code",
   "execution_count": 10,
   "id": "congressional-ambassador",
   "metadata": {},
   "outputs": [],
   "source": [
    "tokenizer = AutoTokenizer.from_pretrained(tokenizer_name)\n",
    "def preprocess_text(examples):\n",
    "    return tokenizer(examples[\"text\"], padding=\"max_length\", truncation=True, max_length=max_seq_length)"
   ]
  },
  {
   "cell_type": "code",
   "execution_count": 11,
   "id": "common-landscape",
   "metadata": {},
   "outputs": [
    {
     "data": {
      "application/vnd.jupyter.widget-view+json": {
       "model_id": "d451d72b02504e9b869caf75380375dc",
       "version_major": 2,
       "version_minor": 0
      },
      "text/plain": [
       "  0%|          | 0/4 [00:00<?, ?ba/s]"
      ]
     },
     "metadata": {},
     "output_type": "display_data"
    },
    {
     "data": {
      "application/vnd.jupyter.widget-view+json": {
       "model_id": "413cc3c54e89497aa67beab4a130c6f5",
       "version_major": 2,
       "version_minor": 0
      },
      "text/plain": [
       "  0%|          | 0/1 [00:00<?, ?ba/s]"
      ]
     },
     "metadata": {},
     "output_type": "display_data"
    },
    {
     "data": {
      "application/vnd.jupyter.widget-view+json": {
       "model_id": "ca0e8fa2de1b44b48e41e27ab8c9ab60",
       "version_major": 2,
       "version_minor": 0
      },
      "text/plain": [
       "  0%|          | 0/1 [00:00<?, ?ba/s]"
      ]
     },
     "metadata": {},
     "output_type": "display_data"
    }
   ],
   "source": [
    "train = pd.read_csv(\"data/miso_train.tsv\", sep=\"\\t\")\n",
    "validation = pd.read_csv(\"data/miso_dev.tsv\", sep=\"\\t\")\n",
    "test = pd.read_csv(\"data/miso_test.tsv\", sep=\"\\t\")\n",
    "\n",
    "raw_datasets = DatasetDict(\n",
    "    train=Dataset.from_pandas(train),\n",
    "    validation=Dataset.from_pandas(validation),\n",
    "    test=Dataset.from_pandas(test)\n",
    ")\n",
    "raw_datasets = raw_datasets.rename_column(\"misogynous\", \"label\")\n",
    "proc_datasets = raw_datasets.map(preprocess_text, batched=True, remove_columns=raw_datasets[\"train\"].features)\n",
    "proc_datasets.set_format(\"pt\")"
   ]
  },
  {
   "cell_type": "code",
   "execution_count": 12,
   "id": "different-creativity",
   "metadata": {},
   "outputs": [
    {
     "name": "stdout",
     "output_type": "stream",
     "text": [
      "*** Calling custom BertForSequenceClassification ***\n"
     ]
    }
   ],
   "source": [
    "model = AutoModelForSequenceClassification.from_pretrained(model_name).eval()\n",
    "effective_model = BertForSequenceClassification.from_pretrained(model_name).eval()"
   ]
  },
  {
   "cell_type": "code",
   "execution_count": 57,
   "id": "interior-theta",
   "metadata": {},
   "outputs": [],
   "source": [
    "exp = VizHelper(model, tokenizer, raw_datasets[\"test\"], proc_datasets[\"test\"])"
   ]
  },
  {
   "cell_type": "markdown",
   "id": "contrary-continuity",
   "metadata": {},
   "source": [
    "Attention"
   ]
  },
  {
   "cell_type": "code",
   "execution_count": null,
   "id": "governing-theta",
   "metadata": {},
   "outputs": [],
   "source": [
    "exp.show_attention(idx=21, head=3, layer=10)"
   ]
  },
  {
   "cell_type": "code",
   "execution_count": null,
   "id": "supreme-macintosh",
   "metadata": {},
   "outputs": [],
   "source": [
    "exp.show_effective_attention(idx=21, head=3, layer=10)"
   ]
  },
  {
   "cell_type": "code",
   "execution_count": null,
   "id": "alternative-engagement",
   "metadata": {},
   "outputs": [],
   "source": [
    "idx, head, layer = 21, 7, 2\n",
    "fig = exp.compare_attentions(idx, head, layer)\n",
    "fig.savefig(f\"plots/comp_attentions_{idx}_{head}_{layer}.png\", bbox_inches='tight')"
   ]
  },
  {
   "cell_type": "code",
   "execution_count": null,
   "id": "chicken-debate",
   "metadata": {},
   "outputs": [],
   "source": [
    "idx, head, layer = 21, 1, 9\n",
    "fig = exp.compare_attentions(idx, head, layer)\n",
    "fig.savefig(f\"plots/comp_attentions_{idx}_{head}_{layer}.png\", bbox_inches='tight')"
   ]
  },
  {
   "cell_type": "markdown",
   "id": "stable-involvement",
   "metadata": {},
   "source": [
    "Classification"
   ]
  },
  {
   "cell_type": "code",
   "execution_count": null,
   "id": "convertible-lloyd",
   "metadata": {},
   "outputs": [],
   "source": [
    "exp.classify(21)"
   ]
  },
  {
   "cell_type": "code",
   "execution_count": null,
   "id": "warming-anaheim",
   "metadata": {},
   "outputs": [],
   "source": [
    "results = exp.compute_table(21)"
   ]
  },
  {
   "cell_type": "code",
   "execution_count": null,
   "id": "signal-understanding",
   "metadata": {},
   "outputs": [],
   "source": [
    "results.to_excel(\"table.xlsx\")"
   ]
  },
  {
   "cell_type": "code",
   "execution_count": null,
   "id": "living-disaster",
   "metadata": {},
   "outputs": [],
   "source": [
    "idx, head, layer = 21, 1, 2\n",
    "fig = exp.compare_attentions(idx, head, layer, effective_model=effective_model, fontsize=18)\n",
    "fig.savefig(f\"plots/comp_attentions_{idx}_{head}_{layer}.png\", bbox_inches='tight')"
   ]
  },
  {
   "cell_type": "code",
   "execution_count": null,
   "id": "cardiac-typing",
   "metadata": {},
   "outputs": [],
   "source": []
  },
  {
   "cell_type": "code",
   "execution_count": null,
   "id": "velvet-wallace",
   "metadata": {},
   "outputs": [],
   "source": [
    "grad, embeds = exp.get_gradient(21)"
   ]
  },
  {
   "cell_type": "markdown",
   "id": "radical-truth",
   "metadata": {},
   "source": [
    "Gradients"
   ]
  },
  {
   "cell_type": "code",
   "execution_count": null,
   "id": "defined-bottle",
   "metadata": {},
   "outputs": [],
   "source": [
    "exp.get_gradient(21)"
   ]
  },
  {
   "cell_type": "markdown",
   "id": "southwest-founder",
   "metadata": {},
   "source": [
    "Final table"
   ]
  },
  {
   "cell_type": "code",
   "execution_count": 74,
   "id": "standard-assets",
   "metadata": {},
   "outputs": [],
   "source": [
    "%%capture\n",
    "table = exp.compute_table(21)"
   ]
  },
  {
   "cell_type": "code",
   "execution_count": 75,
   "id": "grave-safety",
   "metadata": {},
   "outputs": [
    {
     "data": {
      "text/html": [
       "<div>\n",
       "<style scoped>\n",
       "    .dataframe tbody tr th:only-of-type {\n",
       "        vertical-align: middle;\n",
       "    }\n",
       "\n",
       "    .dataframe tbody tr th {\n",
       "        vertical-align: top;\n",
       "    }\n",
       "\n",
       "    .dataframe thead th {\n",
       "        text-align: right;\n",
       "    }\n",
       "</style>\n",
       "<table border=\"1\" class=\"dataframe\">\n",
       "  <thead>\n",
       "    <tr style=\"text-align: right;\">\n",
       "      <th>tokens</th>\n",
       "      <th>[CLS]</th>\n",
       "      <th>i</th>\n",
       "      <th>miss</th>\n",
       "      <th>my</th>\n",
       "      <th>stupid</th>\n",
       "      <th>pretty</th>\n",
       "      <th>s</th>\n",
       "      <th>##tan</th>\n",
       "      <th>##k</th>\n",
       "      <th>dumb</th>\n",
       "      <th>whore</th>\n",
       "      <th>s</th>\n",
       "      <th>##kan</th>\n",
       "      <th>##k</th>\n",
       "      <th>trick</th>\n",
       "      <th>bitch</th>\n",
       "      <th>ass</th>\n",
       "      <th>friends</th>\n",
       "      <th>[SEP]</th>\n",
       "    </tr>\n",
       "  </thead>\n",
       "  <tbody>\n",
       "    <tr>\n",
       "      <th>G</th>\n",
       "      <td>-0.046693</td>\n",
       "      <td>-0.027237</td>\n",
       "      <td>-0.027237</td>\n",
       "      <td>-0.007782</td>\n",
       "      <td>0.015564</td>\n",
       "      <td>0.000000</td>\n",
       "      <td>-0.019455</td>\n",
       "      <td>0.085603</td>\n",
       "      <td>0.070039</td>\n",
       "      <td>-0.015564</td>\n",
       "      <td>0.023346</td>\n",
       "      <td>0.027237</td>\n",
       "      <td>-0.077821</td>\n",
       "      <td>-0.035019</td>\n",
       "      <td>-0.171206</td>\n",
       "      <td>0.000000</td>\n",
       "      <td>-0.108949</td>\n",
       "      <td>0.210117</td>\n",
       "      <td>-0.031128</td>\n",
       "    </tr>\n",
       "    <tr>\n",
       "      <th>GxI</th>\n",
       "      <td>0.004382</td>\n",
       "      <td>-0.055667</td>\n",
       "      <td>-0.033224</td>\n",
       "      <td>-0.034306</td>\n",
       "      <td>-0.013459</td>\n",
       "      <td>0.003522</td>\n",
       "      <td>0.011157</td>\n",
       "      <td>0.019200</td>\n",
       "      <td>0.024633</td>\n",
       "      <td>-0.000851</td>\n",
       "      <td>-0.003492</td>\n",
       "      <td>0.014394</td>\n",
       "      <td>0.083351</td>\n",
       "      <td>0.061475</td>\n",
       "      <td>-0.075812</td>\n",
       "      <td>-0.113490</td>\n",
       "      <td>-0.201125</td>\n",
       "      <td>-0.139274</td>\n",
       "      <td>0.107186</td>\n",
       "    </tr>\n",
       "    <tr>\n",
       "      <th>IntegratedGradients</th>\n",
       "      <td>-0.024810</td>\n",
       "      <td>-0.041670</td>\n",
       "      <td>0.079333</td>\n",
       "      <td>-0.055123</td>\n",
       "      <td>-0.076697</td>\n",
       "      <td>0.038040</td>\n",
       "      <td>-0.047656</td>\n",
       "      <td>-0.126776</td>\n",
       "      <td>-0.033091</td>\n",
       "      <td>-0.112115</td>\n",
       "      <td>0.030842</td>\n",
       "      <td>-0.045686</td>\n",
       "      <td>-0.031556</td>\n",
       "      <td>-0.034987</td>\n",
       "      <td>-0.086230</td>\n",
       "      <td>-0.090326</td>\n",
       "      <td>-0.030227</td>\n",
       "      <td>0.002293</td>\n",
       "      <td>-0.012541</td>\n",
       "    </tr>\n",
       "    <tr>\n",
       "      <th>KernelSHAP</th>\n",
       "      <td>0.030795</td>\n",
       "      <td>-0.030487</td>\n",
       "      <td>-0.103036</td>\n",
       "      <td>-0.044664</td>\n",
       "      <td>0.067001</td>\n",
       "      <td>0.018243</td>\n",
       "      <td>0.049915</td>\n",
       "      <td>0.048692</td>\n",
       "      <td>0.043373</td>\n",
       "      <td>0.033584</td>\n",
       "      <td>0.111427</td>\n",
       "      <td>0.072649</td>\n",
       "      <td>0.066315</td>\n",
       "      <td>0.040431</td>\n",
       "      <td>0.027878</td>\n",
       "      <td>0.169449</td>\n",
       "      <td>0.009331</td>\n",
       "      <td>0.078815</td>\n",
       "      <td>0.275172</td>\n",
       "    </tr>\n",
       "  </tbody>\n",
       "</table>\n",
       "</div>"
      ],
      "text/plain": [
       "tokens                  [CLS]         i      miss        my    stupid  \\\n",
       "G                   -0.046693 -0.027237 -0.027237 -0.007782  0.015564   \n",
       "GxI                  0.004382 -0.055667 -0.033224 -0.034306 -0.013459   \n",
       "IntegratedGradients -0.024810 -0.041670  0.079333 -0.055123 -0.076697   \n",
       "KernelSHAP           0.030795 -0.030487 -0.103036 -0.044664  0.067001   \n",
       "\n",
       "tokens                 pretty         s     ##tan       ##k      dumb  \\\n",
       "G                    0.000000 -0.019455  0.085603  0.070039 -0.015564   \n",
       "GxI                  0.003522  0.011157  0.019200  0.024633 -0.000851   \n",
       "IntegratedGradients  0.038040 -0.047656 -0.126776 -0.033091 -0.112115   \n",
       "KernelSHAP           0.018243  0.049915  0.048692  0.043373  0.033584   \n",
       "\n",
       "tokens                  whore         s     ##kan       ##k     trick  \\\n",
       "G                    0.023346  0.027237 -0.077821 -0.035019 -0.171206   \n",
       "GxI                 -0.003492  0.014394  0.083351  0.061475 -0.075812   \n",
       "IntegratedGradients  0.030842 -0.045686 -0.031556 -0.034987 -0.086230   \n",
       "KernelSHAP           0.111427  0.072649  0.066315  0.040431  0.027878   \n",
       "\n",
       "tokens                  bitch       ass   friends     [SEP]  \n",
       "G                    0.000000 -0.108949  0.210117 -0.031128  \n",
       "GxI                 -0.113490 -0.201125 -0.139274  0.107186  \n",
       "IntegratedGradients -0.090326 -0.030227  0.002293 -0.012541  \n",
       "KernelSHAP           0.169449  0.009331  0.078815  0.275172  "
      ]
     },
     "execution_count": 75,
     "metadata": {},
     "output_type": "execute_result"
    }
   ],
   "source": [
    "table"
   ]
  },
  {
   "cell_type": "code",
   "execution_count": 77,
   "id": "accessory-answer",
   "metadata": {},
   "outputs": [],
   "source": [
    "table.to_excel(f\"table_21.xlsx\")"
   ]
  },
  {
   "cell_type": "markdown",
   "id": "parallel-essay",
   "metadata": {},
   "source": [
    "SHAP"
   ]
  },
  {
   "cell_type": "code",
   "execution_count": null,
   "id": "biological-discovery",
   "metadata": {},
   "outputs": [],
   "source": [
    "shap = exp.get_kernel_shap(21)"
   ]
  },
  {
   "cell_type": "code",
   "execution_count": 67,
   "id": "popular-seafood",
   "metadata": {},
   "outputs": [],
   "source": [
    "ig = exp.get_integrated_gradients(21)"
   ]
  },
  {
   "cell_type": "code",
   "execution_count": 68,
   "id": "rough-mathematics",
   "metadata": {},
   "outputs": [
    {
     "data": {
      "text/plain": [
       "tensor([-0.0248, -0.0417,  0.0793, -0.0551, -0.0767,  0.0380, -0.0477, -0.1268,\n",
       "        -0.0331, -0.1121,  0.0308, -0.0457, -0.0316, -0.0350, -0.0862, -0.0903,\n",
       "        -0.0302,  0.0023, -0.0125], dtype=torch.float64,\n",
       "       grad_fn=<DivBackward0>)"
      ]
     },
     "execution_count": 68,
     "metadata": {},
     "output_type": "execute_result"
    }
   ],
   "source": [
    "ig"
   ]
  }
 ],
 "metadata": {
  "kernelspec": {
   "display_name": "unbias_venv",
   "language": "python",
   "name": "unbias_venv"
  },
  "language_info": {
   "codemirror_mode": {
    "name": "ipython",
    "version": 3
   },
   "file_extension": ".py",
   "mimetype": "text/x-python",
   "name": "python",
   "nbconvert_exporter": "python",
   "pygments_lexer": "ipython3",
   "version": "3.7.9"
  }
 },
 "nbformat": 4,
 "nbformat_minor": 5
}
